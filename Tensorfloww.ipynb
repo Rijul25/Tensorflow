{
 "cells": [
  {
   "cell_type": "code",
   "execution_count": 22,
   "metadata": {},
   "outputs": [],
   "source": [
    "import numpy as np\n",
    "import tensorflow as tf\n",
    "import time\n",
    "from sklearn.datasets import load_boston\n",
    "from sklearn.model_selection import train_test_split\n"
   ]
  },
  {
   "cell_type": "code",
   "execution_count": 2,
   "metadata": {},
   "outputs": [
    {
     "name": "stdout",
     "output_type": "stream",
     "text": [
      "/bin/sh: nvidia-smi: command not found\r\n"
     ]
    }
   ],
   "source": [
    "!nvidia-smi"
   ]
  },
  {
   "cell_type": "code",
   "execution_count": 3,
   "metadata": {},
   "outputs": [
    {
     "name": "stdout",
     "output_type": "stream",
     "text": [
      "[name: \"/device:CPU:0\"\n",
      "device_type: \"CPU\"\n",
      "memory_limit: 268435456\n",
      "locality {\n",
      "}\n",
      "incarnation: 8120896995362957816\n",
      "]\n"
     ]
    }
   ],
   "source": [
    "from tensorflow.python.client import device_lib\n",
    "print(device_lib.list_local_devices())"
   ]
  },
  {
   "cell_type": "code",
   "execution_count": 6,
   "metadata": {},
   "outputs": [],
   "source": [
    "boston=load_boston()"
   ]
  },
  {
   "cell_type": "code",
   "execution_count": 7,
   "metadata": {},
   "outputs": [],
   "source": [
    "features=np.array(boston.data)\n",
    "labels=np.array(boston.target)"
   ]
  },
  {
   "cell_type": "code",
   "execution_count": 8,
   "metadata": {},
   "outputs": [
    {
     "name": "stdout",
     "output_type": "stream",
     "text": [
      "(506, 13) (506,)\n"
     ]
    }
   ],
   "source": [
    "print(features.shape,labels.shape)"
   ]
  },
  {
   "cell_type": "code",
   "execution_count": 10,
   "metadata": {},
   "outputs": [
    {
     "name": "stdout",
     "output_type": "stream",
     "text": [
      "(506, 1)\n"
     ]
    }
   ],
   "source": [
    "labels=np.reshape(labels,(-1,1))\n",
    "print(labels.shape)"
   ]
  },
  {
   "cell_type": "code",
   "execution_count": 11,
   "metadata": {},
   "outputs": [],
   "source": [
    "def normalize(data):\n",
    "    # X-mean(X)/standard_deviation(X)\n",
    "    m = np.mean(data)\n",
    "    s = np.std(data)\n",
    "    normalized_data= (data-m)/s\n",
    "    return normalized_data"
   ]
  },
  {
   "cell_type": "code",
   "execution_count": 12,
   "metadata": {},
   "outputs": [],
   "source": [
    "features=normalize(features)\n",
    "labels=normalize(labels)"
   ]
  },
  {
   "cell_type": "code",
   "execution_count": 13,
   "metadata": {},
   "outputs": [],
   "source": [
    "bias_feature=np.ones(shape = (features.shape[0],1))\n"
   ]
  },
  {
   "cell_type": "code",
   "execution_count": 14,
   "metadata": {},
   "outputs": [
    {
     "name": "stdout",
     "output_type": "stream",
     "text": [
      "(506, 14)\n"
     ]
    }
   ],
   "source": [
    "features=np.concatenate((bias_feature,features),axis=1)\n",
    "print(features.shape)"
   ]
  },
  {
   "cell_type": "code",
   "execution_count": 23,
   "metadata": {},
   "outputs": [
    {
     "name": "stdout",
     "output_type": "stream",
     "text": [
      "(404, 14) (102, 14)\n"
     ]
    }
   ],
   "source": [
    "X_train , X_test , Y_train , Y_test= train_test_split(features,labels,test_size=0.2)\n",
    "print(X_train.shape , X_test.shape)"
   ]
  },
  {
   "cell_type": "markdown",
   "metadata": {},
   "source": [
    "# Create model"
   ]
  },
  {
   "cell_type": "code",
   "execution_count": 15,
   "metadata": {},
   "outputs": [],
   "source": [
    "n_samples=features.shape[0]\n",
    "n_features=features.shape[1]\n",
    "num_epochs=20"
   ]
  },
  {
   "cell_type": "code",
   "execution_count": 16,
   "metadata": {},
   "outputs": [],
   "source": [
    "X = tf.placeholder(dtype=tf.float32,shape=[None,n_features])\n",
    "#Here none is used to give various batch sizes at the training time.\n",
    "Y=tf.placeholder(dtype=tf.float32,shape=[None,1])\n"
   ]
  },
  {
   "cell_type": "code",
   "execution_count": 18,
   "metadata": {},
   "outputs": [
    {
     "name": "stdout",
     "output_type": "stream",
     "text": [
      "<tf.Variable 'Variable:0' shape=(14, 1) dtype=float32_ref>\n"
     ]
    }
   ],
   "source": [
    "W = tf.Variable(tf.random_normal(shape = (n_features,1)))\n",
    "print(W)"
   ]
  },
  {
   "cell_type": "code",
   "execution_count": 19,
   "metadata": {},
   "outputs": [],
   "source": [
    "y_pred=tf.matmul(X,W)"
   ]
  },
  {
   "cell_type": "code",
   "execution_count": 20,
   "metadata": {},
   "outputs": [],
   "source": [
    "cost = tf.reduce_mean(tf.square(y_pred - Y))"
   ]
  },
  {
   "cell_type": "code",
   "execution_count": 21,
   "metadata": {},
   "outputs": [],
   "source": [
    "opt = tf.train.GradientDescentOptimizer(learning_rate=0.01).minimize(cost)"
   ]
  },
  {
   "cell_type": "code",
   "execution_count": 25,
   "metadata": {},
   "outputs": [
    {
     "name": "stdout",
     "output_type": "stream",
     "text": [
      "Epoch 1\n",
      "\n",
      "Training loss is 2.7022 and testing loss is 2.5632\n",
      "-------------\n",
      "Epoch 2\n",
      "\n",
      "Training loss is 2.0045 and testing loss is 1.8156\n",
      "-------------\n",
      "Epoch 3\n",
      "\n",
      "Training loss is 1.6067 and testing loss is 1.3907\n",
      "-------------\n",
      "Epoch 4\n",
      "\n",
      "Training loss is 1.3778 and testing loss is 1.1476\n",
      "-------------\n",
      "Epoch 5\n",
      "\n",
      "Training loss is 1.2441 and testing loss is 1.0073\n",
      "-------------\n",
      "Epoch 6\n",
      "\n",
      "Training loss is 1.1642 and testing loss is 0.9249\n",
      "-------------\n",
      "Epoch 7\n",
      "\n",
      "Training loss is 1.1148 and testing loss is 0.8754\n",
      "-------------\n",
      "Epoch 8\n",
      "\n",
      "Training loss is 1.0828 and testing loss is 0.8445\n",
      "-------------\n",
      "Epoch 9\n",
      "\n",
      "Training loss is 1.0607 and testing loss is 0.8242\n",
      "-------------\n",
      "Epoch 10\n",
      "\n",
      "Training loss is 1.0444 and testing loss is 0.8101\n",
      "-------------\n",
      "Epoch 11\n",
      "\n",
      "Training loss is 1.0316 and testing loss is 0.7996\n",
      "-------------\n",
      "Epoch 12\n",
      "\n",
      "Training loss is 1.0209 and testing loss is 0.7912\n",
      "-------------\n",
      "Epoch 13\n",
      "\n",
      "Training loss is 1.0115 and testing loss is 0.7841\n",
      "-------------\n",
      "Epoch 14\n",
      "\n",
      "Training loss is 1.0030 and testing loss is 0.7779\n",
      "-------------\n",
      "Epoch 15\n",
      "\n",
      "Training loss is 0.9953 and testing loss is 0.7722\n",
      "-------------\n",
      "Epoch 16\n",
      "\n",
      "Training loss is 0.9880 and testing loss is 0.7671\n",
      "-------------\n",
      "Epoch 17\n",
      "\n",
      "Training loss is 0.9811 and testing loss is 0.7622\n",
      "-------------\n",
      "Epoch 18\n",
      "\n",
      "Training loss is 0.9747 and testing loss is 0.7577\n",
      "-------------\n",
      "Epoch 19\n",
      "\n",
      "Training loss is 0.9685 and testing loss is 0.7534\n",
      "-------------\n",
      "Epoch 20\n",
      "\n",
      "Training loss is 0.9627 and testing loss is 0.7493\n",
      "-------------\n"
     ]
    }
   ],
   "source": [
    "with tf.Session() as sess:\n",
    "    sess.run(tf.global_variables_initializer())\n",
    "    \n",
    "    for epoch in range(num_epochs):\n",
    "        sess.run(opt , feed_dict={\n",
    "            X:X_train,\n",
    "            Y:Y_train\n",
    "        })\n",
    "        \n",
    "        train_loss=sess.run(cost,feed_dict={\n",
    "            X:X_train,\n",
    "            Y:Y_train\n",
    "        })\n",
    "        \n",
    "        test_loss=sess.run(cost,feed_dict={\n",
    "            X:X_test,\n",
    "            Y:Y_test\n",
    "        })\n",
    "        \n",
    "        print(\"Epoch {}\\n\".format(epoch+1))\n",
    "        print(\"Training loss is {:.04f} and testing loss is {:.04f}\".format(train_loss,test_loss))\n",
    "        print(\"-------------\")"
   ]
  },
  {
   "cell_type": "code",
   "execution_count": null,
   "metadata": {},
   "outputs": [],
   "source": []
  }
 ],
 "metadata": {
  "kernelspec": {
   "display_name": "Python 3",
   "language": "python",
   "name": "python3"
  },
  "language_info": {
   "codemirror_mode": {
    "name": "ipython",
    "version": 3
   },
   "file_extension": ".py",
   "mimetype": "text/x-python",
   "name": "python",
   "nbconvert_exporter": "python",
   "pygments_lexer": "ipython3",
   "version": "3.7.3"
  }
 },
 "nbformat": 4,
 "nbformat_minor": 2
}
